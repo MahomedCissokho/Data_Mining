{
  "cells": [
    {
      "cell_type": "code",
      "execution_count": 1,
      "metadata": {
        "id": "eyJJoZdrkHOu"
      },
      "outputs": [
        {
          "ename": "ModuleNotFoundError",
          "evalue": "No module named 'statsmodels'",
          "output_type": "error",
          "traceback": [
            "\u001b[1;31m---------------------------------------------------------------------------\u001b[0m",
            "\u001b[1;31mModuleNotFoundError\u001b[0m                       Traceback (most recent call last)",
            "Cell \u001b[1;32mIn[1], line 4\u001b[0m\n\u001b[0;32m      2\u001b[0m \u001b[38;5;28;01mimport\u001b[39;00m \u001b[38;5;21;01mnumpy\u001b[39;00m \u001b[38;5;28;01mas\u001b[39;00m \u001b[38;5;21;01mnp\u001b[39;00m\n\u001b[0;32m      3\u001b[0m \u001b[38;5;28;01mfrom\u001b[39;00m \u001b[38;5;21;01mscipy\u001b[39;00m\u001b[38;5;21;01m.\u001b[39;00m\u001b[38;5;21;01mstats\u001b[39;00m \u001b[38;5;28;01mimport\u001b[39;00m f_oneway\n\u001b[1;32m----> 4\u001b[0m \u001b[38;5;28;01mfrom\u001b[39;00m \u001b[38;5;21;01mstatsmodels\u001b[39;00m\u001b[38;5;21;01m.\u001b[39;00m\u001b[38;5;21;01mstats\u001b[39;00m\u001b[38;5;21;01m.\u001b[39;00m\u001b[38;5;21;01mmulticomp\u001b[39;00m \u001b[38;5;28;01mimport\u001b[39;00m pairwise_tukeyhsd\n",
            "\u001b[1;31mModuleNotFoundError\u001b[0m: No module named 'statsmodels'"
          ]
        }
      ],
      "source": [
        "import pandas as pd\n",
        "import numpy as np\n",
        "from scipy.stats import f_oneway\n",
        "from statsmodels.stats.multicomp import pairwise_tukeyhsd"
      ]
    },
    {
      "cell_type": "markdown",
      "metadata": {
        "id": "gZbkO00FkrwC"
      },
      "source": [
        "We can see that the overall p-value from the ANOVA table is 0.01258.\n",
        "\n",
        "Since this is less than .05, we have sufficient evidence to say that the mean values across each group are not equal."
      ]
    },
    {
      "cell_type": "code",
      "execution_count": null,
      "metadata": {
        "colab": {
          "base_uri": "https://localhost:8080/"
        },
        "id": "iMmAvyWBkX8f",
        "outputId": "e67cf94a-ca73-41cf-ebba-77bd47ac9b9d"
      },
      "outputs": [
        {
          "data": {
            "text/plain": [
              "F_onewayResult(statistic=5.167774552944481, pvalue=0.012582197136592609)"
            ]
          },
          "execution_count": 4,
          "metadata": {},
          "output_type": "execute_result"
        }
      ],
      "source": [
        "#enter data for three groups\n",
        "a = [85, 86, 88, 75, 78, 94, 98, 79, 71, 80]\n",
        "b = [91, 92, 93, 90, 97, 94, 82, 88, 95, 96]\n",
        "c = [79, 78, 88, 94, 92, 85, 83, 85, 82, 81]\n",
        "\n",
        "#perform one-way ANOVA\n",
        "f_oneway(a, b, c)\n",
        "\n"
      ]
    },
    {
      "cell_type": "code",
      "execution_count": null,
      "metadata": {
        "colab": {
          "base_uri": "https://localhost:8080/"
        },
        "id": "UZImhLH3rBd7",
        "outputId": "f5d84453-e2ae-4593-cc70-c9d8d4b6e2fa"
      },
      "outputs": [
        {
          "name": "stdout",
          "output_type": "stream",
          "text": [
            "p_valuer 0.012582197136592609\n"
          ]
        }
      ],
      "source": [
        " from scipy.stats import f\n",
        " dfn = 2\n",
        " dfd = 27\n",
        " f_statistic = 5.167774552944481\n",
        " p_value = f.sf(f_statistic, dfn, dfd )\n",
        " print(\"p_valuer\", p_value )"
      ]
    },
    {
      "cell_type": "markdown",
      "metadata": {
        "id": "WHmBnElTnSPb"
      },
      "source": [
        "Here’s how to interpret the output:\n",
        "\n",
        "    P-value for the difference in means between a and b: .0159\n",
        "    P-value for the difference in means between a and c: .8894\n",
        "    P-value for the difference in means between b and c: .0454\n",
        "Thus, we would conclude that there is a statistically significant difference between the means of groups a and b and groups b and c, but not a statistically significant difference between the means of groups a and c."
      ]
    },
    {
      "cell_type": "code",
      "execution_count": null,
      "metadata": {
        "colab": {
          "base_uri": "https://localhost:8080/"
        },
        "id": "zBAdCpE4m2B5",
        "outputId": "27397fa9-3d6d-4d93-ef33-fe0e15418c96"
      },
      "outputs": [
        {
          "name": "stdout",
          "output_type": "stream",
          "text": [
            " Multiple Comparison of Means - Tukey HSD, FWER=0.05 \n",
            "=====================================================\n",
            "group1 group2 meandiff p-adj   lower    upper  reject\n",
            "-----------------------------------------------------\n",
            "     a      b      8.4 0.0159   1.4259 15.3741   True\n",
            "     a      c      1.3 0.8894  -5.6741  8.2741  False\n",
            "     b      c     -7.1 0.0454 -14.0741 -0.1259   True\n",
            "-----------------------------------------------------\n"
          ]
        }
      ],
      "source": [
        "#create DataFrame to hold data\n",
        "df = pd.DataFrame({'score': [85, 86, 88, 75, 78, 94, 98, 79, 71, 80,\n",
        "                             91, 92, 93, 90, 97, 94, 82, 88, 95, 96,\n",
        "                             79, 78, 88, 94, 92, 85, 83, 85, 82, 81],\n",
        "                   'group': np.repeat(['a', 'b', 'c'], repeats=10)})\n",
        "\n",
        "# perform Tukey's test\n",
        "tukey = pairwise_tukeyhsd(endog=df['score'],\n",
        "                          groups=df['group'],\n",
        "                          alpha=0.05)\n",
        "\n",
        "#display results\n",
        "print(tukey)"
      ]
    },
    {
      "cell_type": "code",
      "execution_count": null,
      "metadata": {
        "colab": {
          "base_uri": "https://localhost:8080/",
          "height": 430
        },
        "id": "aHRp-tTjoUvx",
        "outputId": "8435cf4c-de6b-4835-f12d-5ccffd50ebd7"
      },
      "outputs": [
        {
          "data": {
            "image/png": "[encoded data removed]",
            "text/plain": [
              "<Figure size 640x480 with 1 Axes>"
            ]
          },
          "metadata": {},
          "output_type": "display_data"
        }
      ],
      "source": [
        "import matplotlib.pyplot as plt\n",
        "fig, ax = plt.subplots(1, 1)\n",
        "ax.boxplot([a, b, c])\n",
        "ax.set_xticklabels([\"a\", \"b\", \"c\"])\n",
        "ax.set_ylabel(\"X\")\n",
        "plt.show()"
      ]
    }
  ],
  "metadata": {
    "colab": {
      "provenance": []
    },
    "kernelspec": {
      "display_name": "Python 3",
      "name": "python3"
    },
    "language_info": {
      "codemirror_mode": {
        "name": "ipython",
        "version": 3
      },
      "file_extension": ".py",
      "mimetype": "text/x-python",
      "name": "python",
      "nbconvert_exporter": "python",
      "pygments_lexer": "ipython3",
      "version": "3.11.7"
    }
  },
  "nbformat": 4,
  "nbformat_minor": 0
}
