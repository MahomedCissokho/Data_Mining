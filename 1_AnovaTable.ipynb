{
  "cells": [
    {
      "cell_type": "code",
      "execution_count": 2,
      "metadata": {
        "colab": {
          "base_uri": "https://localhost:8080/",
          "height": 449
        },
        "id": "MFjzYfkyQ-hV",
        "outputId": "65e163fb-9b79-441a-8287-989ba8fad5b3"
      },
      "outputs": [
        {
          "data": {
            "image/png": "[encoded data removed]",
            "text/plain": [
              "<Figure size 640x480 with 1 Axes>"
            ]
          },
          "metadata": {},
          "output_type": "display_data"
        }
      ],
      "source": [
        "import pandas as pd\n",
        "# load data file\n",
        "df = pd.read_csv(\"https://reneshbedre.github.io/assets/posts/anova/onewayanova.txt\", sep=\"\\t\")\n",
        "# reshape the d dataframe suitable for statsmodels package\n",
        "df_melt = pd.melt(df.reset_index(), id_vars=['index'], value_vars=['A', 'B', 'C', 'D'])\n",
        "# replace column names\n",
        "df_melt.columns = ['index', 'treatments', 'value']\n",
        "\n",
        "# generate a boxplot to see the data distribution by treatments. Using boxplot, we can\n",
        "# easily detect the differences between different treatments\n",
        "import matplotlib.pyplot as plt\n",
        "import seaborn as sns\n",
        "ax = sns.boxplot(x='treatments', y='value', data=df_melt, color='#99c2a2')\n",
        "ax = sns.swarmplot(x=\"treatments\", y=\"value\", data=df_melt, color='#7d0013')\n",
        "plt.show()"
      ]
    },
    {
      "cell_type": "code",
      "execution_count": 4,
      "metadata": {
        "colab": {
          "base_uri": "https://localhost:8080/",
          "height": 129
        },
        "id": "DwtwzU_MRrJJ",
        "outputId": "688e0bc8-087c-4176-845a-bc731f906cf6"
      },
      "outputs": [
        {
          "name": "stdout",
          "output_type": "stream",
          "text": [
            "17.492810457516338 2.639241146210922e-05\n"
          ]
        },
        {
          "data": {
            "text/html": [
              "<div>\n",
              "<style scoped>\n",
              "    .dataframe tbody tr th:only-of-type {\n",
              "        vertical-align: middle;\n",
              "    }\n",
              "\n",
              "    .dataframe tbody tr th {\n",
              "        vertical-align: top;\n",
              "    }\n",
              "\n",
              "    .dataframe thead th {\n",
              "        text-align: right;\n",
              "    }\n",
              "</style>\n",
              "<table border=\"1\" class=\"dataframe\">\n",
              "  <thead>\n",
              "    <tr style=\"text-align: right;\">\n",
              "      <th></th>\n",
              "      <th>sum_sq</th>\n",
              "      <th>df</th>\n",
              "      <th>F</th>\n",
              "      <th>PR(&gt;F)</th>\n",
              "    </tr>\n",
              "  </thead>\n",
              "  <tbody>\n",
              "    <tr>\n",
              "      <th>C(treatments)</th>\n",
              "      <td>3010.95</td>\n",
              "      <td>3.0</td>\n",
              "      <td>17.49281</td>\n",
              "      <td>0.000026</td>\n",
              "    </tr>\n",
              "    <tr>\n",
              "      <th>Residual</th>\n",
              "      <td>918.00</td>\n",
              "      <td>16.0</td>\n",
              "      <td>NaN</td>\n",
              "      <td>NaN</td>\n",
              "    </tr>\n",
              "  </tbody>\n",
              "</table>\n",
              "</div>"
            ],
            "text/plain": [
              "                sum_sq    df         F    PR(>F)\n",
              "C(treatments)  3010.95   3.0  17.49281  0.000026\n",
              "Residual        918.00  16.0       NaN       NaN"
            ]
          },
          "execution_count": 4,
          "metadata": {},
          "output_type": "execute_result"
        }
      ],
      "source": [
        "import scipy.stats as stats\n",
        "# stats f_oneway functions takes the groups as input and returns ANOVA F and p value\n",
        "fvalue, pvalue = stats.f_oneway(df['A'], df['B'], df['C'], df['D'])\n",
        "print(fvalue, pvalue)\n",
        "# 17.492810457516338 2.639241146210922e-05\n",
        "\n",
        "# get ANOVA table as R like output\n",
        "import statsmodels.api as sm\n",
        "from statsmodels.formula.api import ols\n",
        "\n",
        "# Ordinary Least Squares (OLS) model\n",
        "model = ols('value ~ C(treatments)', data=df_melt).fit()\n",
        "anova_table = sm.stats.anova_lm(model, typ=2)\n",
        "anova_table\n",
        "# output (ANOVA F and p value)\n",
        "#                sum_sq    df         F    PR(>F)\n",
        "#C(treatments)  3010.95   3.0  17.49281  0.000026\n",
        "#Residual        918.00  16.0       NaN       NaN\n",
        "\n",
        "\n",
        "\n",
        "\n"
      ]
    },
    {
      "cell_type": "code",
      "execution_count": 5,
      "metadata": {
        "colab": {
          "base_uri": "https://localhost:8080/"
        },
        "id": "3V7eNlxNWGrb",
        "outputId": "a98154b3-92a3-4bc0-9bf6-c50169cbbe08"
      },
      "outputs": [
        {
          "name": "stdout",
          "output_type": "stream",
          "text": [
            "Collecting bioinfokit\n",
            "  Downloading bioinfokit-2.1.3.tar.gz (87 kB)\n",
            "     ---------------------------------------- 0.0/87.7 kB ? eta -:--:--\n",
            "     ---- ----------------------------------- 10.2/87.7 kB ? eta -:--:--\n",
            "     ----------------- -------------------- 41.0/87.7 kB 330.3 kB/s eta 0:00:01\n",
            "     ----------------------------------- -- 81.9/87.7 kB 573.4 kB/s eta 0:00:01\n",
            "     -------------------------------------- 87.7/87.7 kB 553.5 kB/s eta 0:00:00\n",
            "  Preparing metadata (setup.py): started\n",
            "  Preparing metadata (setup.py): finished with status 'done'\n",
            "Requirement already satisfied: pandas in c:\\users\\idrissa\\anaconda3\\envs\\ecolemarine\\lib\\site-packages (from bioinfokit) (2.0.3)\n",
            "Requirement already satisfied: numpy in c:\\users\\idrissa\\anaconda3\\envs\\ecolemarine\\lib\\site-packages (from bioinfokit) (1.26.0)\n",
            "Requirement already satisfied: matplotlib in c:\\users\\idrissa\\anaconda3\\envs\\ecolemarine\\lib\\site-packages (from bioinfokit) (3.8.0)\n",
            "Requirement already satisfied: scipy in c:\\users\\idrissa\\anaconda3\\envs\\ecolemarine\\lib\\site-packages (from bioinfokit) (1.11.3)\n",
            "Collecting scikit-learn (from bioinfokit)\n",
            "  Obtaining dependency information for scikit-learn from https://files.pythonhosted.org/packages/f1/7d/2e562207176a5dcdad513085670674bb11ffaf37e1393eacb6d7fb502481/scikit_learn-1.3.1-cp311-cp311-win_amd64.whl.metadata\n",
            "  Downloading scikit_learn-1.3.1-cp311-cp311-win_amd64.whl.metadata (11 kB)\n",
            "Requirement already satisfied: seaborn in c:\\users\\idrissa\\anaconda3\\envs\\ecolemarine\\lib\\site-packages (from bioinfokit) (0.13.0)\n",
            "Collecting matplotlib-venn (from bioinfokit)\n",
            "  Downloading matplotlib-venn-0.11.9.tar.gz (30 kB)\n",
            "  Installing build dependencies: started\n",
            "  Installing build dependencies: finished with status 'done'\n",
            "  Getting requirements to build wheel: started\n",
            "  Getting requirements to build wheel: finished with status 'done'\n",
            "  Installing backend dependencies: started\n",
            "  Installing backend dependencies: finished with status 'done'\n",
            "  Preparing metadata (pyproject.toml): started\n",
            "  Preparing metadata (pyproject.toml): finished with status 'done'\n",
            "Collecting tabulate (from bioinfokit)\n",
            "  Downloading tabulate-0.9.0-py3-none-any.whl (35 kB)\n",
            "Requirement already satisfied: statsmodels in c:\\users\\idrissa\\anaconda3\\envs\\ecolemarine\\lib\\site-packages (from bioinfokit) (0.14.0)\n",
            "Collecting textwrap3 (from bioinfokit)\n",
            "  Downloading textwrap3-0.9.2-py2.py3-none-any.whl (12 kB)\n",
            "Collecting adjustText (from bioinfokit)\n",
            "  Downloading adjustText-0.8-py3-none-any.whl (9.1 kB)\n",
            "Requirement already satisfied: contourpy>=1.0.1 in c:\\users\\idrissa\\anaconda3\\envs\\ecolemarine\\lib\\site-packages (from matplotlib->bioinfokit) (1.1.1)\n",
            "Requirement already satisfied: cycler>=0.10 in c:\\users\\idrissa\\anaconda3\\envs\\ecolemarine\\lib\\site-packages (from matplotlib->bioinfokit) (0.12.0)\n",
            "Requirement already satisfied: fonttools>=4.22.0 in c:\\users\\idrissa\\anaconda3\\envs\\ecolemarine\\lib\\site-packages (from matplotlib->bioinfokit) (4.43.0)\n",
            "Requirement already satisfied: kiwisolver>=1.0.1 in c:\\users\\idrissa\\anaconda3\\envs\\ecolemarine\\lib\\site-packages (from matplotlib->bioinfokit) (1.4.5)\n",
            "Requirement already satisfied: packaging>=20.0 in c:\\users\\idrissa\\anaconda3\\envs\\ecolemarine\\lib\\site-packages (from matplotlib->bioinfokit) (23.2)\n",
            "Requirement already satisfied: pillow>=6.2.0 in c:\\users\\idrissa\\anaconda3\\envs\\ecolemarine\\lib\\site-packages (from matplotlib->bioinfokit) (10.0.1)\n",
            "Requirement already satisfied: pyparsing>=2.3.1 in c:\\users\\idrissa\\anaconda3\\envs\\ecolemarine\\lib\\site-packages (from matplotlib->bioinfokit) (3.1.1)\n",
            "Requirement already satisfied: python-dateutil>=2.7 in c:\\users\\idrissa\\anaconda3\\envs\\ecolemarine\\lib\\site-packages (from matplotlib->bioinfokit) (2.8.2)\n",
            "Requirement already satisfied: pytz>=2020.1 in c:\\users\\idrissa\\anaconda3\\envs\\ecolemarine\\lib\\site-packages (from pandas->bioinfokit) (2023.3.post1)\n",
            "Requirement already satisfied: tzdata>=2022.1 in c:\\users\\idrissa\\anaconda3\\envs\\ecolemarine\\lib\\site-packages (from pandas->bioinfokit) (2023.3)\n",
            "Collecting joblib>=1.1.1 (from scikit-learn->bioinfokit)\n",
            "  Obtaining dependency information for joblib>=1.1.1 from https://files.pythonhosted.org/packages/10/40/d551139c85db202f1f384ba8bcf96aca2f329440a844f924c8a0040b6d02/joblib-1.3.2-py3-none-any.whl.metadata\n",
            "  Downloading joblib-1.3.2-py3-none-any.whl.metadata (5.4 kB)\n",
            "Collecting threadpoolctl>=2.0.0 (from scikit-learn->bioinfokit)\n",
            "  Obtaining dependency information for threadpoolctl>=2.0.0 from https://files.pythonhosted.org/packages/81/12/fd4dea011af9d69e1cad05c75f3f7202cdcbeac9b712eea58ca779a72865/threadpoolctl-3.2.0-py3-none-any.whl.metadata\n",
            "  Downloading threadpoolctl-3.2.0-py3-none-any.whl.metadata (10.0 kB)\n",
            "Requirement already satisfied: patsy>=0.5.2 in c:\\users\\idrissa\\anaconda3\\envs\\ecolemarine\\lib\\site-packages (from statsmodels->bioinfokit) (0.5.3)\n",
            "Requirement already satisfied: six in c:\\users\\idrissa\\anaconda3\\envs\\ecolemarine\\lib\\site-packages (from patsy>=0.5.2->statsmodels->bioinfokit) (1.16.0)\n",
            "Downloading scikit_learn-1.3.1-cp311-cp311-win_amd64.whl (9.2 MB)\n",
            "   ---------------------------------------- 0.0/9.2 MB ? eta -:--:--\n",
            "   ---------------------------------------- 0.1/9.2 MB 5.5 MB/s eta 0:00:02\n",
            "    --------------------------------------- 0.1/9.2 MB 1.7 MB/s eta 0:00:06\n",
            "   - -------------------------------------- 0.2/9.2 MB 2.1 MB/s eta 0:00:05\n",
            "   - -------------------------------------- 0.3/9.2 MB 1.9 MB/s eta 0:00:05\n",
            "   -- ------------------------------------- 0.5/9.2 MB 2.4 MB/s eta 0:00:04\n",
            "   -- ------------------------------------- 0.7/9.2 MB 2.5 MB/s eta 0:00:04\n",
            "   --- ------------------------------------ 0.8/9.2 MB 2.7 MB/s eta 0:00:04\n",
            "   ---- ----------------------------------- 1.0/9.2 MB 2.9 MB/s eta 0:00:03\n",
            "   ---- ----------------------------------- 1.1/9.2 MB 2.7 MB/s eta 0:00:03\n",
            "   ----- ---------------------------------- 1.2/9.2 MB 2.7 MB/s eta 0:00:03\n",
            "   ------ --------------------------------- 1.4/9.2 MB 2.9 MB/s eta 0:00:03\n",
            "   ------ --------------------------------- 1.5/9.2 MB 2.7 MB/s eta 0:00:03\n",
            "   ------ --------------------------------- 1.5/9.2 MB 2.7 MB/s eta 0:00:03\n",
            "   ------ --------------------------------- 1.5/9.2 MB 2.7 MB/s eta 0:00:03\n",
            "   ------ --------------------------------- 1.5/9.2 MB 2.1 MB/s eta 0:00:04\n",
            "   ------- -------------------------------- 1.6/9.2 MB 2.2 MB/s eta 0:00:04\n",
            "   ------- -------------------------------- 1.7/9.2 MB 2.1 MB/s eta 0:00:04\n",
            "   ------- -------------------------------- 1.8/9.2 MB 2.1 MB/s eta 0:00:04\n",
            "   -------- ------------------------------- 2.0/9.2 MB 2.2 MB/s eta 0:00:04\n",
            "   --------- ------------------------------ 2.2/9.2 MB 2.3 MB/s eta 0:00:03\n",
            "   --------- ------------------------------ 2.2/9.2 MB 2.3 MB/s eta 0:00:04\n",
            "   --------- ------------------------------ 2.3/9.2 MB 2.2 MB/s eta 0:00:04\n",
            "   ---------- ----------------------------- 2.4/9.2 MB 2.2 MB/s eta 0:00:04\n",
            "   ---------- ----------------------------- 2.4/9.2 MB 2.2 MB/s eta 0:00:04\n",
            "   ---------- ----------------------------- 2.5/9.2 MB 2.1 MB/s eta 0:00:04\n",
            "   ------------ --------------------------- 2.8/9.2 MB 2.2 MB/s eta 0:00:03\n",
            "   ------------ --------------------------- 3.0/9.2 MB 2.3 MB/s eta 0:00:03\n",
            "   ------------- -------------------------- 3.1/9.2 MB 2.3 MB/s eta 0:00:03\n",
            "   -------------- ------------------------- 3.4/9.2 MB 2.4 MB/s eta 0:00:03\n",
            "   --------------- ------------------------ 3.5/9.2 MB 2.4 MB/s eta 0:00:03\n",
            "   --------------- ------------------------ 3.6/9.2 MB 2.4 MB/s eta 0:00:03\n",
            "   --------------- ------------------------ 3.6/9.2 MB 2.4 MB/s eta 0:00:03\n",
            "   ----------------- ---------------------- 3.9/9.2 MB 2.5 MB/s eta 0:00:03\n",
            "   ----------------- ---------------------- 4.0/9.2 MB 2.5 MB/s eta 0:00:03\n",
            "   ----------------- ---------------------- 4.0/9.2 MB 2.4 MB/s eta 0:00:03\n",
            "   ----------------- ---------------------- 4.0/9.2 MB 2.4 MB/s eta 0:00:03\n",
            "   ----------------- ---------------------- 4.0/9.2 MB 2.3 MB/s eta 0:00:03\n",
            "   ----------------- ---------------------- 4.0/9.2 MB 2.3 MB/s eta 0:00:03\n",
            "   ----------------- ---------------------- 4.1/9.2 MB 2.2 MB/s eta 0:00:03\n",
            "   ------------------ --------------------- 4.2/9.2 MB 2.2 MB/s eta 0:00:03\n",
            "   ------------------ --------------------- 4.2/9.2 MB 2.1 MB/s eta 0:00:03\n",
            "   ------------------ --------------------- 4.2/9.2 MB 2.1 MB/s eta 0:00:03\n",
            "   ------------------ --------------------- 4.3/9.2 MB 2.1 MB/s eta 0:00:03\n",
            "   ------------------- -------------------- 4.4/9.2 MB 2.1 MB/s eta 0:00:03\n",
            "   ------------------- -------------------- 4.5/9.2 MB 2.1 MB/s eta 0:00:03\n",
            "   -------------------- ------------------- 4.7/9.2 MB 2.2 MB/s eta 0:00:03\n",
            "   --------------------- ------------------ 4.9/9.2 MB 2.2 MB/s eta 0:00:02\n",
            "   --------------------- ------------------ 5.0/9.2 MB 2.2 MB/s eta 0:00:02\n",
            "   ---------------------- ----------------- 5.1/9.2 MB 2.2 MB/s eta 0:00:02\n",
            "   ---------------------- ----------------- 5.1/9.2 MB 2.2 MB/s eta 0:00:02\n",
            "   ---------------------- ----------------- 5.1/9.2 MB 2.2 MB/s eta 0:00:02\n",
            "   ---------------------- ----------------- 5.1/9.2 MB 2.2 MB/s eta 0:00:02\n",
            "   ---------------------- ----------------- 5.1/9.2 MB 2.2 MB/s eta 0:00:02\n",
            "   ---------------------- ----------------- 5.1/9.2 MB 2.2 MB/s eta 0:00:02\n",
            "   ---------------------- ----------------- 5.2/9.2 MB 2.0 MB/s eta 0:00:03\n",
            "   ---------------------- ----------------- 5.2/9.2 MB 2.0 MB/s eta 0:00:03\n",
            "   ----------------------- ---------------- 5.3/9.2 MB 2.0 MB/s eta 0:00:02\n",
            "   ----------------------- ---------------- 5.4/9.2 MB 2.0 MB/s eta 0:00:02\n",
            "   ------------------------ --------------- 5.6/9.2 MB 2.0 MB/s eta 0:00:02\n",
            "   ------------------------ --------------- 5.7/9.2 MB 2.0 MB/s eta 0:00:02\n",
            "   ------------------------ --------------- 5.7/9.2 MB 2.0 MB/s eta 0:00:02\n",
            "   ------------------------- -------------- 5.8/9.2 MB 2.0 MB/s eta 0:00:02\n",
            "   ------------------------- -------------- 6.0/9.2 MB 2.0 MB/s eta 0:00:02\n",
            "   -------------------------- ------------- 6.0/9.2 MB 2.0 MB/s eta 0:00:02\n",
            "   -------------------------- ------------- 6.2/9.2 MB 2.0 MB/s eta 0:00:02\n",
            "   --------------------------- ------------ 6.3/9.2 MB 2.0 MB/s eta 0:00:02\n",
            "   ---------------------------- ----------- 6.5/9.2 MB 2.0 MB/s eta 0:00:02\n",
            "   ---------------------------- ----------- 6.6/9.2 MB 2.0 MB/s eta 0:00:02\n",
            "   ----------------------------- ---------- 6.8/9.2 MB 2.1 MB/s eta 0:00:02\n",
            "   ------------------------------ --------- 7.0/9.2 MB 2.1 MB/s eta 0:00:02\n",
            "   ------------------------------ --------- 7.0/9.2 MB 2.1 MB/s eta 0:00:02\n",
            "   ------------------------------ --------- 7.0/9.2 MB 2.1 MB/s eta 0:00:02\n",
            "   ------------------------------ --------- 7.0/9.2 MB 2.0 MB/s eta 0:00:02\n",
            "   ------------------------------- -------- 7.2/9.2 MB 2.1 MB/s eta 0:00:01\n",
            "   ------------------------------- -------- 7.3/9.2 MB 2.1 MB/s eta 0:00:01\n",
            "   ------------------------------- -------- 7.3/9.2 MB 2.1 MB/s eta 0:00:01\n",
            "   ------------------------------- -------- 7.3/9.2 MB 2.1 MB/s eta 0:00:01\n",
            "   ------------------------------- -------- 7.3/9.2 MB 2.0 MB/s eta 0:00:01\n",
            "   ------------------------------- -------- 7.4/9.2 MB 2.0 MB/s eta 0:00:01\n",
            "   -------------------------------- ------- 7.4/9.2 MB 2.0 MB/s eta 0:00:01\n",
            "   -------------------------------- ------- 7.5/9.2 MB 2.0 MB/s eta 0:00:01\n",
            "   --------------------------------- ------ 7.7/9.2 MB 2.0 MB/s eta 0:00:01\n",
            "   --------------------------------- ------ 7.8/9.2 MB 2.0 MB/s eta 0:00:01\n",
            "   --------------------------------- ------ 7.8/9.2 MB 2.0 MB/s eta 0:00:01\n",
            "   ---------------------------------- ----- 7.9/9.2 MB 2.0 MB/s eta 0:00:01\n",
            "   ---------------------------------- ----- 8.0/9.2 MB 2.0 MB/s eta 0:00:01\n",
            "   ---------------------------------- ----- 8.0/9.2 MB 1.9 MB/s eta 0:00:01\n",
            "   ----------------------------------- ---- 8.1/9.2 MB 1.9 MB/s eta 0:00:01\n",
            "   ----------------------------------- ---- 8.2/9.2 MB 2.0 MB/s eta 0:00:01\n",
            "   ------------------------------------ --- 8.3/9.2 MB 2.0 MB/s eta 0:00:01\n",
            "   ------------------------------------ --- 8.4/9.2 MB 2.0 MB/s eta 0:00:01\n",
            "   ------------------------------------- -- 8.5/9.2 MB 2.0 MB/s eta 0:00:01\n",
            "   ------------------------------------- -- 8.7/9.2 MB 2.0 MB/s eta 0:00:01\n",
            "   -------------------------------------- - 8.8/9.2 MB 2.0 MB/s eta 0:00:01\n",
            "   -------------------------------------- - 9.0/9.2 MB 2.0 MB/s eta 0:00:01\n",
            "   ---------------------------------------  9.1/9.2 MB 2.0 MB/s eta 0:00:01\n",
            "   ---------------------------------------- 9.2/9.2 MB 2.0 MB/s eta 0:00:00\n",
            "Downloading joblib-1.3.2-py3-none-any.whl (302 kB)\n",
            "   ---------------------------------------- 0.0/302.2 kB ? eta -:--:--\n",
            "   ------------------ --------------------- 143.4/302.2 kB 4.3 MB/s eta 0:00:01\n",
            "   ---------------------------------------  297.0/302.2 kB 3.1 MB/s eta 0:00:01\n",
            "   ---------------------------------------- 302.2/302.2 kB 3.1 MB/s eta 0:00:00\n",
            "Downloading threadpoolctl-3.2.0-py3-none-any.whl (15 kB)\n",
            "Building wheels for collected packages: bioinfokit, matplotlib-venn\n",
            "  Building wheel for bioinfokit (setup.py): started\n",
            "  Building wheel for bioinfokit (setup.py): finished with status 'done'\n",
            "  Created wheel for bioinfokit: filename=bioinfokit-2.1.3-py3-none-any.whl size=59156 sha256=e59c0fbbfc7463d0ab7d4492a95c7399511fb35cf9205f959a4035958644a844\n",
            "  Stored in directory: c:\\users\\idrissa\\appdata\\local\\pip\\cache\\wheels\\17\\b1\\27\\a08cd47cae31d28f2dd8951e3e2fe78e9ce3f8ee93afe01906\n",
            "  Building wheel for matplotlib-venn (pyproject.toml): started\n",
            "  Building wheel for matplotlib-venn (pyproject.toml): finished with status 'done'\n",
            "  Created wheel for matplotlib-venn: filename=matplotlib_venn-0.11.9-py3-none-any.whl size=33037 sha256=3dcf7ce1f1b5b8272f14ebf45c6487e3022e2a018eaf7c485cadff2c45e872c4\n",
            "  Stored in directory: c:\\users\\idrissa\\appdata\\local\\pip\\cache\\wheels\\f6\\80\\48\\193eff32ed8e176623b15874055438ecec522ba68ed05abee6\n",
            "Successfully built bioinfokit matplotlib-venn\n",
            "Installing collected packages: textwrap3, threadpoolctl, tabulate, joblib, scikit-learn, matplotlib-venn, adjustText, bioinfokit\n",
            "Successfully installed adjustText-0.8 bioinfokit-2.1.3 joblib-1.3.2 matplotlib-venn-0.11.9 scikit-learn-1.3.1 tabulate-0.9.0 textwrap3-0.9.2 threadpoolctl-3.2.0\n"
          ]
        }
      ],
      "source": [
        "! pip install bioinfokit"
      ]
    },
    {
      "cell_type": "code",
      "execution_count": 5,
      "metadata": {
        "id": "-ZiiNbReTj3u"
      },
      "outputs": [],
      "source": [
        "# ANOVA table using bioinfokit v1.0.3 or later (it uses wrapper script for anova_lm)\n",
        "from bioinfokit.analys import stat"
      ]
    },
    {
      "cell_type": "code",
      "execution_count": 7,
      "metadata": {
        "colab": {
          "base_uri": "https://localhost:8080/",
          "height": 112
        },
        "id": "_TR3LgXJTpy1",
        "outputId": "4db52af1-6206-4875-cb5a-b005242aa7d6"
      },
      "outputs": [
        {
          "data": {
            "text/html": [
              "<div>\n",
              "<style scoped>\n",
              "    .dataframe tbody tr th:only-of-type {\n",
              "        vertical-align: middle;\n",
              "    }\n",
              "\n",
              "    .dataframe tbody tr th {\n",
              "        vertical-align: top;\n",
              "    }\n",
              "\n",
              "    .dataframe thead th {\n",
              "        text-align: right;\n",
              "    }\n",
              "</style>\n",
              "<table border=\"1\" class=\"dataframe\">\n",
              "  <thead>\n",
              "    <tr style=\"text-align: right;\">\n",
              "      <th></th>\n",
              "      <th>df</th>\n",
              "      <th>sum_sq</th>\n",
              "      <th>mean_sq</th>\n",
              "      <th>F</th>\n",
              "      <th>PR(&gt;F)</th>\n",
              "    </tr>\n",
              "  </thead>\n",
              "  <tbody>\n",
              "    <tr>\n",
              "      <th>C(treatments)</th>\n",
              "      <td>3.0</td>\n",
              "      <td>3010.95</td>\n",
              "      <td>1003.650</td>\n",
              "      <td>17.49281</td>\n",
              "      <td>0.000026</td>\n",
              "    </tr>\n",
              "    <tr>\n",
              "      <th>Residual</th>\n",
              "      <td>16.0</td>\n",
              "      <td>918.00</td>\n",
              "      <td>57.375</td>\n",
              "      <td>NaN</td>\n",
              "      <td>NaN</td>\n",
              "    </tr>\n",
              "  </tbody>\n",
              "</table>\n",
              "</div>"
            ],
            "text/plain": [
              "                 df   sum_sq   mean_sq         F    PR(>F)\n",
              "C(treatments)   3.0  3010.95  1003.650  17.49281  0.000026\n",
              "Residual       16.0   918.00    57.375       NaN       NaN"
            ]
          },
          "execution_count": 7,
          "metadata": {},
          "output_type": "execute_result"
        }
      ],
      "source": [
        "res = stat()\n",
        "res.anova_stat(df=df_melt, res_var='value', anova_model='value ~ C(treatments)')\n",
        "res.anova_summary\n",
        "# output (ANOVA F and p value)\n",
        "#                 df   sum_sq   mean_sq         F    PR(>F)\n",
        "#C(treatments)   3.0  3010.95  1003.650  17.49281  0.000026\n",
        "#Residual       16.0   918.00    57.375       NaN       NaN\n",
        "\n",
        "# note: if the data is balanced (equal sample size for each group), Type 1, 2, and 3 sums of squares\n",
        "# (typ parameter) will produce similar results."
      ]
    }
  ],
  "metadata": {
    "colab": {
      "provenance": []
    },
    "kernelspec": {
      "display_name": "Python 3",
      "name": "python3"
    },
    "language_info": {
      "codemirror_mode": {
        "name": "ipython",
        "version": 3
      },
      "file_extension": ".py",
      "mimetype": "text/x-python",
      "name": "python",
      "nbconvert_exporter": "python",
      "pygments_lexer": "ipython3",
      "version": "3.11.5"
    }
  },
  "nbformat": 4,
  "nbformat_minor": 0
}
